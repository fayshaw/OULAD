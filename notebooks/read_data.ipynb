{
 "cells": [
  {
   "cell_type": "code",
   "execution_count": 2,
   "id": "initial_id",
   "metadata": {
    "collapsed": true,
    "ExecuteTime": {
     "end_time": "2024-01-17T21:36:24.369611Z",
     "start_time": "2024-01-17T21:36:23.908692Z"
    }
   },
   "outputs": [
    {
     "name": "stderr",
     "output_type": "stream",
     "text": [
      "Polars found a filename. Ensure you pass a path to the file instead of a python file object when possible for best performance.\n",
      "Polars found a filename. Ensure you pass a path to the file instead of a python file object when possible for best performance.\n",
      "Polars found a filename. Ensure you pass a path to the file instead of a python file object when possible for best performance.\n",
      "Polars found a filename. Ensure you pass a path to the file instead of a python file object when possible for best performance.\n",
      "Polars found a filename. Ensure you pass a path to the file instead of a python file object when possible for best performance.\n",
      "Polars found a filename. Ensure you pass a path to the file instead of a python file object when possible for best performance.\n",
      "Polars found a filename. Ensure you pass a path to the file instead of a python file object when possible for best performance.\n"
     ]
    }
   ],
   "source": [
    "from zipfile import ZipFile\n",
    "import polars as pl\n",
    "\n",
    "zip_file = ZipFile('student-demographics-online-education-dataoulad.zip')\n",
    "data_files = [\n",
    "    'assessments',\n",
    "    'courses',\n",
    "    'studentAssessment',\n",
    "    'studentInfo',\n",
    "    'studentRegistration',\n",
    "    'studentVle',\n",
    "    'vle'\n",
    "]\n",
    "\n",
    "data = {}\n",
    "for file in data_files:\n",
    "    data[file] = pl.read_csv(zip_file.open(f'{file}.csv'))"
   ]
  },
  {
   "cell_type": "code",
   "outputs": [
    {
     "data": {
      "text/plain": "7"
     },
     "execution_count": 3,
     "metadata": {},
     "output_type": "execute_result"
    }
   ],
   "source": [
    "len(data)"
   ],
   "metadata": {
    "collapsed": false,
    "ExecuteTime": {
     "end_time": "2024-01-17T21:36:34.163597Z",
     "start_time": "2024-01-17T21:36:34.151766Z"
    }
   },
   "id": "d84352cb8450d27a",
   "execution_count": 3
  },
  {
   "cell_type": "code",
   "outputs": [
    {
     "data": {
      "text/plain": "shape: (5, 6)\n┌─────────────┬───────────────────┬───────────────┬─────────────────┬──────┬────────┐\n│ code_module ┆ code_presentation ┆ id_assessment ┆ assessment_type ┆ date ┆ weight │\n│ ---         ┆ ---               ┆ ---           ┆ ---             ┆ ---  ┆ ---    │\n│ str         ┆ str               ┆ i64           ┆ str             ┆ str  ┆ f64    │\n╞═════════════╪═══════════════════╪═══════════════╪═════════════════╪══════╪════════╡\n│ AAA         ┆ 2013J             ┆ 1752          ┆ TMA             ┆ 19   ┆ 10.0   │\n│ AAA         ┆ 2013J             ┆ 1753          ┆ TMA             ┆ 54   ┆ 20.0   │\n│ AAA         ┆ 2013J             ┆ 1754          ┆ TMA             ┆ 117  ┆ 20.0   │\n│ AAA         ┆ 2013J             ┆ 1755          ┆ TMA             ┆ 166  ┆ 20.0   │\n│ AAA         ┆ 2013J             ┆ 1756          ┆ TMA             ┆ 215  ┆ 30.0   │\n└─────────────┴───────────────────┴───────────────┴─────────────────┴──────┴────────┘",
      "text/html": "<div><style>\n.dataframe > thead > tr,\n.dataframe > tbody > tr {\n  text-align: right;\n  white-space: pre-wrap;\n}\n</style>\n<small>shape: (5, 6)</small><table border=\"1\" class=\"dataframe\"><thead><tr><th>code_module</th><th>code_presentation</th><th>id_assessment</th><th>assessment_type</th><th>date</th><th>weight</th></tr><tr><td>str</td><td>str</td><td>i64</td><td>str</td><td>str</td><td>f64</td></tr></thead><tbody><tr><td>&quot;AAA&quot;</td><td>&quot;2013J&quot;</td><td>1752</td><td>&quot;TMA&quot;</td><td>&quot;19&quot;</td><td>10.0</td></tr><tr><td>&quot;AAA&quot;</td><td>&quot;2013J&quot;</td><td>1753</td><td>&quot;TMA&quot;</td><td>&quot;54&quot;</td><td>20.0</td></tr><tr><td>&quot;AAA&quot;</td><td>&quot;2013J&quot;</td><td>1754</td><td>&quot;TMA&quot;</td><td>&quot;117&quot;</td><td>20.0</td></tr><tr><td>&quot;AAA&quot;</td><td>&quot;2013J&quot;</td><td>1755</td><td>&quot;TMA&quot;</td><td>&quot;166&quot;</td><td>20.0</td></tr><tr><td>&quot;AAA&quot;</td><td>&quot;2013J&quot;</td><td>1756</td><td>&quot;TMA&quot;</td><td>&quot;215&quot;</td><td>30.0</td></tr></tbody></table></div>"
     },
     "execution_count": 4,
     "metadata": {},
     "output_type": "execute_result"
    }
   ],
   "source": [
    "data['assessments'].head()"
   ],
   "metadata": {
    "collapsed": false,
    "ExecuteTime": {
     "end_time": "2024-01-17T21:36:53.627845Z",
     "start_time": "2024-01-17T21:36:53.591487Z"
    }
   },
   "id": "e910551ddb499e83",
   "execution_count": 4
  },
  {
   "cell_type": "code",
   "outputs": [],
   "source": [],
   "metadata": {
    "collapsed": false
   },
   "id": "3e527cc31d1064ff"
  }
 ],
 "metadata": {
  "kernelspec": {
   "display_name": "Python 3",
   "language": "python",
   "name": "python3"
  },
  "language_info": {
   "codemirror_mode": {
    "name": "ipython",
    "version": 2
   },
   "file_extension": ".py",
   "mimetype": "text/x-python",
   "name": "python",
   "nbconvert_exporter": "python",
   "pygments_lexer": "ipython2",
   "version": "2.7.6"
  }
 },
 "nbformat": 4,
 "nbformat_minor": 5
}
